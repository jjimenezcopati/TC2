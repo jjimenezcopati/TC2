{
 "cells": [
  {
   "cell_type": "markdown",
   "id": "f8d72cc0",
   "metadata": {},
   "source": [
    "# TP SEMANAL N°4\n",
    "### Juan Ignacio Jimenez Copati"
   ]
  },
  {
   "cell_type": "markdown",
   "id": "05a1b8c8",
   "metadata": {},
   "source": [
    "## *Cálculos*"
   ]
  },
  {
   "cell_type": "code",
   "execution_count": 1,
   "id": "6c49e567",
   "metadata": {
    "scrolled": false
   },
   "outputs": [
    {
     "data": {
      "text/html": [
       "\n",
       "        <iframe\n",
       "            width=\"960\"\n",
       "            height=\"1000\"\n",
       "            src=\"./TP_SEMANAL_3.pdf\"\n",
       "            frameborder=\"0\"\n",
       "            allowfullscreen\n",
       "            \n",
       "        ></iframe>\n",
       "        "
      ],
      "text/plain": [
       "<IPython.lib.display.IFrame at 0x7fd77fd9b010>"
      ]
     },
     "execution_count": 1,
     "metadata": {},
     "output_type": "execute_result"
    }
   ],
   "source": [
    "from IPython.display import IFrame\n",
    "IFrame(\"./TP_SEMANAL_3.pdf\", width=960, height=1000)"
   ]
  },
  {
   "cell_type": "markdown",
   "id": "5c2b0f95",
   "metadata": {},
   "source": [
    " ## *Simulación en LT spice*"
   ]
  },
  {
   "cell_type": "markdown",
   "id": "dd5975dc",
   "metadata": {},
   "source": [
    "### Normalizado según norma Ωω"
   ]
  },
  {
   "cell_type": "markdown",
   "id": "a93ee45d",
   "metadata": {},
   "source": [
    "$$ Ω_ω = 2π . 1500Hz $$"
   ]
  },
  {
   "cell_type": "code",
   "execution_count": 2,
   "id": "d78a6ba3",
   "metadata": {},
   "outputs": [
    {
     "data": {
      "text/html": [
       "\n",
       "        <iframe\n",
       "            width=\"960\"\n",
       "            height=\"900\"\n",
       "            src=\"./LT/norma_w.png\"\n",
       "            frameborder=\"0\"\n",
       "            allowfullscreen\n",
       "            \n",
       "        ></iframe>\n",
       "        "
      ],
      "text/plain": [
       "<IPython.lib.display.IFrame at 0x7fd77fd9be50>"
      ]
     },
     "execution_count": 2,
     "metadata": {},
     "output_type": "execute_result"
    }
   ],
   "source": [
    "from IPython.display import IFrame\n",
    "IFrame(\"./LT/norma_w.png\", width=960, height=900)"
   ]
  },
  {
   "cell_type": "markdown",
   "id": "7b60f46c",
   "metadata": {},
   "source": [
    "### Desnormalizado según norma ωb"
   ]
  },
  {
   "cell_type": "markdown",
   "id": "e602834a",
   "metadata": {},
   "source": [
    "La siguiente simulación se llevó a cabo con los valores desnormalizados con la ωb"
   ]
  },
  {
   "cell_type": "markdown",
   "id": "8b342f85",
   "metadata": {},
   "source": [
    "$$ Ω_b = ε^{(-1/n)} $$"
   ]
  },
  {
   "cell_type": "markdown",
   "id": "8ba61416",
   "metadata": {},
   "source": [
    "$$ Ω_ω = 2π . 1500Hz $$"
   ]
  },
  {
   "cell_type": "markdown",
   "id": "422628c0",
   "metadata": {},
   "source": [
    "$$ ω_b = Ω_ω . Ω_b$$"
   ]
  },
  {
   "cell_type": "code",
   "execution_count": 3,
   "id": "1c0b7ec1",
   "metadata": {
    "scrolled": false
   },
   "outputs": [
    {
     "data": {
      "text/html": [
       "\n",
       "        <iframe\n",
       "            width=\"960\"\n",
       "            height=\"900\"\n",
       "            src=\"./LT/LT_SIM.jpeg\"\n",
       "            frameborder=\"0\"\n",
       "            allowfullscreen\n",
       "            \n",
       "        ></iframe>\n",
       "        "
      ],
      "text/plain": [
       "<IPython.lib.display.IFrame at 0x7fd77fd9b100>"
      ]
     },
     "execution_count": 3,
     "metadata": {},
     "output_type": "execute_result"
    }
   ],
   "source": [
    "from IPython.display import IFrame\n",
    "IFrame(\"./LT/LT_SIM.jpeg\", width=960, height=900)"
   ]
  },
  {
   "cell_type": "markdown",
   "id": "65557ab0",
   "metadata": {},
   "source": [
    "### Desnormalizado según norma ωb y con C=100nf"
   ]
  },
  {
   "cell_type": "markdown",
   "id": "5018b1d8",
   "metadata": {},
   "source": [
    "$$ Ω_z = 847.16 Ω $$"
   ]
  },
  {
   "cell_type": "code",
   "execution_count": 4,
   "id": "35e3ea76",
   "metadata": {},
   "outputs": [
    {
     "data": {
      "text/html": [
       "\n",
       "        <iframe\n",
       "            width=\"960\"\n",
       "            height=\"900\"\n",
       "            src=\"./LT/LT_SIM_2.png\"\n",
       "            frameborder=\"0\"\n",
       "            allowfullscreen\n",
       "            \n",
       "        ></iframe>\n",
       "        "
      ],
      "text/plain": [
       "<IPython.lib.display.IFrame at 0x7fd77fd9b5e0>"
      ]
     },
     "execution_count": 4,
     "metadata": {},
     "output_type": "execute_result"
    }
   ],
   "source": [
    "from IPython.display import IFrame\n",
    "IFrame(\"./LT/LT_SIM_2.png\", width=960, height=900)"
   ]
  }
 ],
 "metadata": {
  "kernelspec": {
   "display_name": "Python 3 (ipykernel)",
   "language": "python",
   "name": "python3"
  },
  "language_info": {
   "codemirror_mode": {
    "name": "ipython",
    "version": 3
   },
   "file_extension": ".py",
   "mimetype": "text/x-python",
   "name": "python",
   "nbconvert_exporter": "python",
   "pygments_lexer": "ipython3",
   "version": "3.10.6"
  }
 },
 "nbformat": 4,
 "nbformat_minor": 5
}
