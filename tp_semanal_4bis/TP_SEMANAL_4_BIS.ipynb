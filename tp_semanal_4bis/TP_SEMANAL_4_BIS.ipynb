{
 "cells": [
  {
   "cell_type": "markdown",
   "id": "f8d72cc0",
   "metadata": {},
   "source": [
    "# TP SEMANAL N°4 bis\n",
    "### Juan Ignacio Jimenez Copati"
   ]
  },
  {
   "cell_type": "markdown",
   "id": "05a1b8c8",
   "metadata": {},
   "source": [
    "## *Cálculos*"
   ]
  },
  {
   "cell_type": "code",
   "execution_count": 9,
   "id": "6c49e567",
   "metadata": {
    "scrolled": false
   },
   "outputs": [
    {
     "data": {
      "text/html": [
       "\n",
       "        <iframe\n",
       "            width=\"960\"\n",
       "            height=\"1000\"\n",
       "            src=\"./tp4bis.pdf\"\n",
       "            frameborder=\"0\"\n",
       "            allowfullscreen\n",
       "            \n",
       "        ></iframe>\n",
       "        "
      ],
      "text/plain": [
       "<IPython.lib.display.IFrame at 0x7f9f976ccfa0>"
      ]
     },
     "execution_count": 9,
     "metadata": {},
     "output_type": "execute_result"
    }
   ],
   "source": [
    "from IPython.display import IFrame\n",
    "IFrame(\"./tp4bis.pdf\", width=960, height=1000)"
   ]
  },
  {
   "cell_type": "markdown",
   "id": "f910ea3e",
   "metadata": {},
   "source": [
    " ## *Simulación numérica*"
   ]
  },
  {
   "cell_type": "code",
   "execution_count": 8,
   "id": "111a4be5",
   "metadata": {},
   "outputs": [
    {
     "name": "stdout",
     "output_type": "stream",
     "text": [
      "N= 3\n",
      "Epsilon= 0.9976283451109834\n"
     ]
    },
    {
     "data": {
      "text/latex": [
       "$\\displaystyle   \\frac{  1 }{s +   1 } . \\frac{  1 }{s^2 + s \\,\\,   1 +   1 }$"
      ],
      "text/plain": [
       "<IPython.core.display.Math object>"
      ]
     },
     "metadata": {},
     "output_type": "display_data"
    },
    {
     "data": {
      "text/latex": [
       "$\\displaystyle   \\frac{s \\,\\, 0.4595 }{s^2 + s \\,\\, 0.45 +   1 } . \\frac{s \\,\\, 0.2291 }{s^2 + s \\,\\, 0.1817 + 0.6773 } . \\frac{s \\,\\, 0.8659 }{s^2 + s \\,\\, 0.2683 + 1.477 }$"
      ],
      "text/plain": [
       "<IPython.core.display.Math object>"
      ]
     },
     "metadata": {},
     "output_type": "display_data"
    }
   ],
   "source": [
    "#%% Librerías externas NumPy, SciPy y Matplotlib\n",
    "from scipy.signal import TransferFunction     #de el scipy solo exporto la funcion transferfunction\n",
    "from scipy import signal as sig  \n",
    "import matplotlib.pyplot as plt               #le doy un nombre (plt) al matplotlib para usarlo más comodamente\n",
    "import numpy as np                            #le doy un nombre (np) al numpy para usarlo más comodamente\n",
    "import math as m\n",
    "\n",
    "##### Librería de TC2\n",
    " \n",
    "import pytc2.sistemas_lineales as tc2 #libreria de la catedra.\n",
    "#Defino mi plantilla\n",
    "\n",
    "alp_MAX=3      #dB\n",
    "alp_min=20      #dB\n",
    "Q_bp=2.222\n",
    "\n",
    "wp_n_pb=1             # wp/wp\n",
    "ws_n_pb=2.16\n",
    "\n",
    "#Se calculan epsilon y n automatico \n",
    "\n",
    "eps = m.sqrt( 10**(alp_MAX/10) - 1 )\n",
    "[n,w0] = sig.buttord(wp_n_pb, ws_n_pb, alp_MAX, alp_min, True)\n",
    "\n",
    "print(\"N=\",n)\n",
    "print(\"Epsilon=\",eps)\n",
    "#%%\n",
    "num_lp ,den_lp = sig.butter(3, 1, 'low', True)\n",
    "sos_lp = tc2.tf2sos_analog(num, den)\n",
    "tc2.pretty_print_SOS(sos_lp)\n",
    "\n",
    "num_bp, den_bp=sig.lp2bp(num, den, bw = 1/Q_bp)\n",
    "sos_pbanda = tc2.tf2sos_analog(num_bp, den_bp)\n",
    "tc2.pretty_print_SOS(sos_pbanda)"
   ]
  },
  {
   "cell_type": "code",
   "execution_count": 3,
   "id": "0cffcfec",
   "metadata": {},
   "outputs": [],
   "source": [
    "#Para graficos\n",
    "\n",
    "import matplotlib as mpl\n",
    "\n",
    "fig_sz_x = 13\n",
    "fig_sz_y = 7\n",
    "fig_dpi = 80 # dpi\n",
    "fig_font_size = 16\n",
    "\n",
    "mpl.rcParams['figure.figsize'] = (fig_sz_x, fig_sz_y)\n",
    "mpl.rcParams['figure.dpi'] = fig_dpi\n",
    "mpl.rcParams.update({'font.size':fig_font_size})"
   ]
  },
  {
   "cell_type": "code",
   "execution_count": 5,
   "id": "aab461c8",
   "metadata": {},
   "outputs": [],
   "source": [
    "#Defino mis normas de butter para el prototipo pb y mi pasa altos objetivo\n",
    "wb_pb = wp*eps**(-1/n)\n",
    "wb_pa = wp*eps**(1/n)\n",
    "\n",
    "#Obtengo los q (me falta agregarle una forma de automatizar cuantos q sacar en funcion de n)\n",
    "qq=1/(2*m.cos(m.pi/n))"
   ]
  },
  {
   "cell_type": "markdown",
   "id": "289658bc",
   "metadata": {},
   "source": []
  }
 ],
 "metadata": {
  "kernelspec": {
   "display_name": "Python 3 (ipykernel)",
   "language": "python",
   "name": "python3"
  },
  "language_info": {
   "codemirror_mode": {
    "name": "ipython",
    "version": 3
   },
   "file_extension": ".py",
   "mimetype": "text/x-python",
   "name": "python",
   "nbconvert_exporter": "python",
   "pygments_lexer": "ipython3",
   "version": "3.10.6"
  }
 },
 "nbformat": 4,
 "nbformat_minor": 5
}
