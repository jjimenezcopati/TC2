{
 "cells": [
  {
   "cell_type": "markdown",
   "id": "6184207e",
   "metadata": {},
   "source": [
    "# TP SEMANAL N°1\n",
    "### Juan Ignacio Jimenez Copati\n"
   ]
  },
  {
   "cell_type": "markdown",
   "id": "770e125c",
   "metadata": {},
   "source": [
    "## Cálculos y gráficos"
   ]
  },
  {
   "cell_type": "code",
   "execution_count": 1,
   "id": "5a5b3e2a",
   "metadata": {},
   "outputs": [
    {
     "data": {
      "text/html": [
       "\n",
       "        <iframe\n",
       "            width=\"1000\"\n",
       "            height=\"800\"\n",
       "            src=\"./Tp1.pdf\"\n",
       "            frameborder=\"0\"\n",
       "            allowfullscreen\n",
       "            \n",
       "        ></iframe>\n",
       "        "
      ],
      "text/plain": [
       "<IPython.lib.display.IFrame at 0x7f3b9747eda0>"
      ]
     },
     "execution_count": 1,
     "metadata": {},
     "output_type": "execute_result"
    }
   ],
   "source": [
    "from IPython.display import IFrame\n",
    "IFrame(\"./Tp1.pdf\", width=1000, height=800)"
   ]
  },
  {
   "cell_type": "markdown",
   "id": "e963339c",
   "metadata": {},
   "source": [
    "## Simulación en matlab"
   ]
  },
  {
   "cell_type": "code",
   "execution_count": 2,
   "id": "027c9415",
   "metadata": {
    "scrolled": false
   },
   "outputs": [
    {
     "data": {
      "text/html": [
       "\n",
       "        <iframe\n",
       "            width=\"1000\"\n",
       "            height=\"700\"\n",
       "            src=\"./simulacion_Matlab.png\"\n",
       "            frameborder=\"0\"\n",
       "            allowfullscreen\n",
       "            \n",
       "        ></iframe>\n",
       "        "
      ],
      "text/plain": [
       "<IPython.lib.display.IFrame at 0x7f3b9747f010>"
      ]
     },
     "execution_count": 2,
     "metadata": {},
     "output_type": "execute_result"
    }
   ],
   "source": [
    "from IPython.display import IFrame\n",
    "IFrame(\"./simulacion_Matlab.png\", width=1000, height=700)"
   ]
  },
  {
   "cell_type": "markdown",
   "id": "309df321",
   "metadata": {},
   "source": [
    "## Simulación en LT Spice"
   ]
  },
  {
   "cell_type": "code",
   "execution_count": 3,
   "id": "14bc49ab",
   "metadata": {
    "scrolled": false
   },
   "outputs": [
    {
     "data": {
      "text/html": [
       "\n",
       "        <iframe\n",
       "            width=\"1000\"\n",
       "            height=\"1100\"\n",
       "            src=\"./simulacion_LT.png\"\n",
       "            frameborder=\"0\"\n",
       "            allowfullscreen\n",
       "            \n",
       "        ></iframe>\n",
       "        "
      ],
      "text/plain": [
       "<IPython.lib.display.IFrame at 0x7f3b943378b0>"
      ]
     },
     "execution_count": 3,
     "metadata": {},
     "output_type": "execute_result"
    }
   ],
   "source": [
    "from IPython.display import IFrame\n",
    "IFrame(\"./simulacion_LT.png\", width=1000, height=1100\n",
    "      )"
   ]
  },
  {
   "cell_type": "code",
   "execution_count": null,
   "id": "d79e840c",
   "metadata": {},
   "outputs": [],
   "source": []
  }
 ],
 "metadata": {
  "kernelspec": {
   "display_name": "Python 3 (ipykernel)",
   "language": "python",
   "name": "python3"
  },
  "language_info": {
   "codemirror_mode": {
    "name": "ipython",
    "version": 3
   },
   "file_extension": ".py",
   "mimetype": "text/x-python",
   "name": "python",
   "nbconvert_exporter": "python",
   "pygments_lexer": "ipython3",
   "version": "3.10.6"
  }
 },
 "nbformat": 4,
 "nbformat_minor": 5
}
