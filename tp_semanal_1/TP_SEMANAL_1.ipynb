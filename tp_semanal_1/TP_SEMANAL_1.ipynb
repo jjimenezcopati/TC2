{
 "cells": [
  {
   "cell_type": "markdown",
   "id": "6184207e",
   "metadata": {},
   "source": [
    "# TP SEMANAL N°1\n",
    "### Juan Ignacio Jimenez Copati\n"
   ]
  },
  {
   "cell_type": "markdown",
   "id": "770e125c",
   "metadata": {},
   "source": [
    "## Cálculos y gráficos"
   ]
  },
  {
   "cell_type": "code",
   "execution_count": null,
   "id": "5a5b3e2a",
   "metadata": {},
   "outputs": [],
   "source": [
    "from IPython.display import IFrame\n",
    "IFrame(\"./Tp1.pdf\", width=1000, height=1000)"
   ]
  },
  {
   "cell_type": "markdown",
   "id": "e963339c",
   "metadata": {},
   "source": [
    "## Simulación en matlab"
   ]
  },
  {
   "cell_type": "code",
   "execution_count": null,
   "id": "027c9415",
   "metadata": {},
   "outputs": [],
   "source": [
    "from IPython.display import IFrame\n",
    "IFrame(\"./simulacion_LT.png\", width=1000, height=1000)"
   ]
  },
  {
   "cell_type": "markdown",
   "id": "309df321",
   "metadata": {},
   "source": [
    "## Simulación en LT Spice"
   ]
  },
  {
   "cell_type": "code",
   "execution_count": null,
   "id": "14bc49ab",
   "metadata": {},
   "outputs": [],
   "source": [
    "from IPython.display import IFrame\n",
    "IFrame(\"./simulacion_LT.png\", width=1000, height=1000)"
   ]
  }
 ],
 "metadata": {
  "kernelspec": {
   "display_name": "Python 3 (ipykernel)",
   "language": "python",
   "name": "python3"
  },
  "language_info": {
   "codemirror_mode": {
    "name": "ipython",
    "version": 3
   },
   "file_extension": ".py",
   "mimetype": "text/x-python",
   "name": "python",
   "nbconvert_exporter": "python",
   "pygments_lexer": "ipython3",
   "version": "3.10.6"
  }
 },
 "nbformat": 4,
 "nbformat_minor": 5
}
