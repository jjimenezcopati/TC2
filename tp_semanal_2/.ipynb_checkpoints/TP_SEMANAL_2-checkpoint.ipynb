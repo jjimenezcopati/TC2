{
 "cells": [
  {
   "cell_type": "markdown",
   "id": "ef5fe7c0",
   "metadata": {},
   "source": [
    "# TP SEMANAL N°2\n",
    "\n",
    "### Juan Ignacio Jimenez"
   ]
  },
  {
   "cell_type": "markdown",
   "id": "5a7a8a31",
   "metadata": {},
   "source": [
    "## **Cálculos**"
   ]
  },
  {
   "cell_type": "code",
   "execution_count": 1,
   "id": "1d34a986",
   "metadata": {
    "scrolled": false
   },
   "outputs": [
    {
     "data": {
      "text/html": [
       "\n",
       "        <iframe\n",
       "            width=\"960\"\n",
       "            height=\"1000\"\n",
       "            src=\"./Tp2.pdf\"\n",
       "            frameborder=\"0\"\n",
       "            allowfullscreen\n",
       "            \n",
       "        ></iframe>\n",
       "        "
      ],
      "text/plain": [
       "<IPython.lib.display.IFrame at 0x7f109a8a7430>"
      ]
     },
     "execution_count": 1,
     "metadata": {},
     "output_type": "execute_result"
    }
   ],
   "source": [
    "from IPython.display import IFrame\n",
    "IFrame(\"./Tp2.pdf\", width=960, height=1000)"
   ]
  },
  {
   "cell_type": "markdown",
   "id": "cf00bd41",
   "metadata": {},
   "source": [
    "### Análisis de sensibilidad \n"
   ]
  },
  {
   "cell_type": "code",
   "execution_count": 2,
   "id": "6af66c2d",
   "metadata": {
    "scrolled": false
   },
   "outputs": [
    {
     "data": {
      "text/html": [
       "\n",
       "        <iframe\n",
       "            width=\"900\"\n",
       "            height=\"500\"\n",
       "            src=\"./sensibilidad.pdf\"\n",
       "            frameborder=\"0\"\n",
       "            allowfullscreen\n",
       "            \n",
       "        ></iframe>\n",
       "        "
      ],
      "text/plain": [
       "<IPython.lib.display.IFrame at 0x7f109a8a7f40>"
      ]
     },
     "execution_count": 2,
     "metadata": {},
     "output_type": "execute_result"
    }
   ],
   "source": [
    "from IPython.display import IFrame\n",
    "IFrame(\"./sensibilidad.pdf\", width=900, height=500)"
   ]
  },
  {
   "cell_type": "markdown",
   "id": "7af2513d",
   "metadata": {},
   "source": [
    "### Gráfico LT"
   ]
  },
  {
   "cell_type": "code",
   "execution_count": 3,
   "id": "5d84b05a",
   "metadata": {
    "scrolled": false
   },
   "outputs": [
    {
     "data": {
      "text/html": [
       "\n",
       "        <iframe\n",
       "            width=\"960\"\n",
       "            height=\"500\"\n",
       "            src=\"./LT/grafico_LT.png\"\n",
       "            frameborder=\"0\"\n",
       "            allowfullscreen\n",
       "            \n",
       "        ></iframe>\n",
       "        "
      ],
      "text/plain": [
       "<IPython.lib.display.IFrame at 0x7f109a8a7fa0>"
      ]
     },
     "execution_count": 3,
     "metadata": {},
     "output_type": "execute_result"
    }
   ],
   "source": [
    "from IPython.display import IFrame\n",
    "IFrame(\"./LT/grafico_LT.png\", width=960, height=500)"
   ]
  },
  {
   "cell_type": "markdown",
   "id": "932fc933",
   "metadata": {},
   "source": [
    "### Gráfico MATLAB"
   ]
  },
  {
   "cell_type": "code",
   "execution_count": 4,
   "id": "c8d15076",
   "metadata": {
    "scrolled": false
   },
   "outputs": [
    {
     "data": {
      "text/html": [
       "\n",
       "        <iframe\n",
       "            width=\"960\"\n",
       "            height=\"700\"\n",
       "            src=\"./MATLAB/grafico_matlab.jpeg\"\n",
       "            frameborder=\"0\"\n",
       "            allowfullscreen\n",
       "            \n",
       "        ></iframe>\n",
       "        "
      ],
      "text/plain": [
       "<IPython.lib.display.IFrame at 0x7f109a8a6e00>"
      ]
     },
     "execution_count": 4,
     "metadata": {},
     "output_type": "execute_result"
    }
   ],
   "source": [
    "from IPython.display import IFrame\n",
    "IFrame(\"./MATLAB/grafico_matlab.jpeg\", width=960, height=700)"
   ]
  },
  {
   "cell_type": "markdown",
   "id": "6c5ffedd",
   "metadata": {},
   "source": [
    "### Conclusiones"
   ]
  },
  {
   "cell_type": "markdown",
   "id": "f1dc98ac",
   "metadata": {},
   "source": [
    "Como conclusión se puede decir que esta topología me garantiza un filtro pasa bajos. Se pudo ver que si fijamos el velor de r3 comercial en la práctica o de valor unitario en la teoría (norma) podemos variar el Q y la ganancia del circuito con otros componentes independientes entre sí, lo que es bueno. Se puede ver a la vez que la sensibilidad entre parámetros es de relacion uno a uno (o inverso). Es decir, que si varío un parámetro un 1%, el otro variará 1% si la sensibilidad es 1 y -1% si la sensibilidad es -1."
   ]
  }
 ],
 "metadata": {
  "kernelspec": {
   "display_name": "Python 3 (ipykernel)",
   "language": "python",
   "name": "python3"
  },
  "language_info": {
   "codemirror_mode": {
    "name": "ipython",
    "version": 3
   },
   "file_extension": ".py",
   "mimetype": "text/x-python",
   "name": "python",
   "nbconvert_exporter": "python",
   "pygments_lexer": "ipython3",
   "version": "3.10.6"
  }
 },
 "nbformat": 4,
 "nbformat_minor": 5
}
